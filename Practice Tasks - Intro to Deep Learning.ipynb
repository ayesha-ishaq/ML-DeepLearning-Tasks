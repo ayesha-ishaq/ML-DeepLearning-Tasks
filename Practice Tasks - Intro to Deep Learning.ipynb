{
 "cells": [
  {
   "cell_type": "markdown",
   "id": "9a87c572",
   "metadata": {},
   "source": [
    "## Task 1:  \n",
    "In this exercise you'll try to build a neural network that predicts the price of a house according to a simple formula.::\n",
    "\n",
    "\n",
    "So, imagine if house pricing was as easy as a house costs 50k + 50k per bedroom, so that a 1 bedroom house costs 100k, a 2 bedroom house costs 150k etc.\n",
    "\n",
    "How would you create a neural network that learns this relationship so that it would predict a 7 bedroom house as costing close to 400k etc.\n",
    "\n",
    "**Use 'sgd' as optimizer**\n",
    "\n",
    "**Hint:** Your network might work better if you scale the house price down. You don't have to give the answer 400...it might be better to create something that predicts the number 4, and then your answer is in the 'hundreds of thousands' etc."
   ]
  },
  {
   "cell_type": "code",
   "execution_count": 2,
   "id": "e57bc706",
   "metadata": {},
   "outputs": [
    {
     "name": "stdout",
     "output_type": "stream",
     "text": [
      "Finished training the model\n"
     ]
    }
   ],
   "source": [
    "import tensorflow as tf\n",
    "import numpy as np\n",
    "from tensorflow import keras\n",
    "model = tf.keras.Sequential([tf.keras.layers.Dense(units=1, input_shape=[1])])\n",
    "model.compile(loss='mean_squared_error',\n",
    "              optimizer='sgd',\n",
    "             metrics = 'accuracy')\n",
    "xs = [1,2,3,4,5,6,7,8]\n",
    "ys = [1, 1.5,2,2.5,3,3.5,4,4.5]\n",
    "hist=model.fit(xs,ys,epochs=500, verbose=False)\n",
    "print(\"Finished training the model\")"
   ]
  },
  {
   "cell_type": "code",
   "execution_count": 4,
   "id": "c92140e7",
   "metadata": {},
   "outputs": [
    {
     "name": "stdout",
     "output_type": "stream",
     "text": [
      "[[4.009414]]\n"
     ]
    }
   ],
   "source": [
    "print(model.predict([7.0]))"
   ]
  },
  {
   "cell_type": "markdown",
   "id": "4ea816c1",
   "metadata": {},
   "source": [
    "## Task 2:\n",
    "In the lab you learned how to do classification using Fashion MNIST, a data set containing items of clothing. There's another, similar dataset called MNIST which has items of handwriting -- the digits 0 through 9.\n",
    "\n",
    "Write an MNIST classifier that trains to 99% accuracy or above, and does it without a fixed number of epochs -- i.e. you should stop training once you reach that level of accuracy.\n",
    "\n",
    "Some notes:\n",
    "1. It should succeed in less than 10 epochs, so it is okay to change epochs to 10, but nothing larger\n",
    "2. When it reaches 99% or greater it should print out the string \"Reached 99% accuracy so cancelling training!\"\n",
    "3. If you add any additional variables, make sure you use the same names as the ones used in the class\n",
    "\n",
    "I've started the code for you below -- how would you finish it? "
   ]
  },
  {
   "cell_type": "code",
   "execution_count": 17,
   "id": "c6d1f8a1",
   "metadata": {},
   "outputs": [
    {
     "name": "stdout",
     "output_type": "stream",
     "text": [
      "Epoch 1/10\n",
      "1875/1875 [==============================] - 5s 3ms/step - loss: 0.2595 - accuracy: 0.9259\n",
      "Epoch 2/10\n",
      "1875/1875 [==============================] - 5s 3ms/step - loss: 0.1126 - accuracy: 0.9670\n",
      "Epoch 3/10\n",
      "1875/1875 [==============================] - 5s 3ms/step - loss: 0.0761 - accuracy: 0.9770\n",
      "Epoch 4/10\n",
      "1875/1875 [==============================] - 5s 3ms/step - loss: 0.0565 - accuracy: 0.9822\n",
      "Epoch 5/10\n",
      "1875/1875 [==============================] - 5s 3ms/step - loss: 0.0443 - accuracy: 0.9859\n",
      "Epoch 6/10\n",
      "1875/1875 [==============================] - 5s 3ms/step - loss: 0.0344 - accuracy: 0.9895\n",
      "Epoch 7/10\n",
      "1873/1875 [============================>.] - ETA: 0s - loss: 0.0287 - accuracy: 0.9910\n",
      "Reached 99% accuracy so cancelling training!\n",
      "1875/1875 [==============================] - 5s 3ms/step - loss: 0.0287 - accuracy: 0.9910\n"
     ]
    },
    {
     "data": {
      "text/plain": [
       "<tensorflow.python.keras.callbacks.History at 0x1b7eefbc670>"
      ]
     },
     "execution_count": 17,
     "metadata": {},
     "output_type": "execute_result"
    }
   ],
   "source": [
    "# YOUR CODE SHOULD START HERE\n",
    "class myCallback(tf.keras.callbacks.Callback):\n",
    "  def on_epoch_end(self, epoch, logs={}):\n",
    "    if(logs.get('accuracy')>0.99):\n",
    "      print(\"\\nReached 99% accuracy so cancelling training!\")\n",
    "      self.model.stop_training = True\n",
    "my_callback=myCallback()\n",
    "# YOUR CODE SHOULD END HERE\n",
    "import tensorflow as tf\n",
    "mnist = tf.keras.datasets.mnist\n",
    "\n",
    "(x_train, y_train),(x_test, y_test) = mnist.load_data()\n",
    "# YOUR CODE SHOULD START HERE\n",
    "x_train=x_train/255\n",
    "x_test=x_test/255\n",
    "# YOUR CODE SHOULD END HERE\n",
    "model = tf.keras.models.Sequential([\n",
    "# YOUR CODE SHOULD START HERE\n",
    "    \n",
    "    tf.keras.layers.Flatten(input_shape=(28, 28, 1)),\n",
    "    tf.keras.layers.Dense(128, activation=tf.nn.relu),\n",
    "    tf.keras.layers.Dense(10,activation = tf.nn.softmax)\n",
    "# YOUR CODE SHOULD END HERE\n",
    "])\n",
    "\n",
    "model.compile(optimizer='adam',\n",
    "              loss='sparse_categorical_crossentropy',\n",
    "              metrics=['accuracy'])\n",
    "\n",
    "# YOUR CODE SHOULD START HERE\n",
    "model.fit(x_train, y_train, epochs=10, callbacks=[my_callback])\n",
    "\n",
    "# YOUR CODE SHOULD END HERE"
   ]
  },
  {
   "cell_type": "markdown",
   "id": "4f7dfa6d",
   "metadata": {},
   "source": [
    "## Task 3:\n",
    "In the lab you looked at how you would improve Fashion MNIST using Convolutions. For your exercise see if you can improve MNIST to 99.8% accuracy or more using only a single convolutional layer and a single MaxPooling 2D. You should stop training once the accuracy goes above this amount. It should happen in less than 20 epochs, so it's ok to hard code the number of epochs for training, but your training must end once it hits the above metric. If it doesn't, then you'll need to redesign your layers.\n",
    "\n",
    "I've started the code for you -- you need to finish it!\n",
    "\n",
    "When 99.8% accuracy has been hit, you should print out the string \"Reached 99.8% accuracy so cancelling training!\"\n",
    "\n",
    "\n",
    "**Note:** After splitting the data inro training and test, you need to reshape it to 4D before giving it to model e.g:\n",
    "training_images=training_images.reshape(60000, 28, 28, 1)\n",
    "\n",
    "\n",
    "60000 is the number of images in training data"
   ]
  },
  {
   "cell_type": "code",
   "execution_count": 26,
   "id": "beca0fdb",
   "metadata": {},
   "outputs": [
    {
     "name": "stdout",
     "output_type": "stream",
     "text": [
      "Epoch 1/20\n",
      "1875/1875 [==============================] - 33s 18ms/step - loss: 1.5550 - accuracy: 0.9188\n",
      "Epoch 2/20\n",
      "1875/1875 [==============================] - 34s 18ms/step - loss: 1.4976 - accuracy: 0.9685\n",
      "Epoch 3/20\n",
      "1875/1875 [==============================] - 34s 18ms/step - loss: 1.4880 - accuracy: 0.9768\n",
      "Epoch 4/20\n",
      "1875/1875 [==============================] - 33s 18ms/step - loss: 1.4834 - accuracy: 0.9807\n",
      "Epoch 5/20\n",
      "1875/1875 [==============================] - 34s 18ms/step - loss: 1.4805 - accuracy: 0.9831\n",
      "Epoch 6/20\n",
      "1875/1875 [==============================] - 34s 18ms/step - loss: 1.4786 - accuracy: 0.9847\n",
      "Epoch 7/20\n",
      "1875/1875 [==============================] - 34s 18ms/step - loss: 1.4766 - accuracy: 0.9864\n",
      "Epoch 8/20\n",
      "1875/1875 [==============================] - 35s 19ms/step - loss: 1.4750 - accuracy: 0.9880\n",
      "Epoch 9/20\n",
      "1875/1875 [==============================] - 34s 18ms/step - loss: 1.4738 - accuracy: 0.9887\n",
      "Epoch 10/20\n",
      "1875/1875 [==============================] - 34s 18ms/step - loss: 1.4727 - accuracy: 0.9900\n",
      "Epoch 11/20\n",
      "1875/1875 [==============================] - 34s 18ms/step - loss: 1.4718 - accuracy: 0.9905\n",
      "Epoch 12/20\n",
      "1875/1875 [==============================] - 34s 18ms/step - loss: 1.4711 - accuracy: 0.9913\n",
      "Epoch 13/20\n",
      "1875/1875 [==============================] - 34s 18ms/step - loss: 1.4704 - accuracy: 0.9917\n",
      "Epoch 14/20\n",
      "1873/1875 [============================>.] - ETA: 0s - loss: 1.4697 - accuracy: 0.9922\n",
      "Reached 99.8% accuracy so cancelling training!\n",
      "1875/1875 [==============================] - 34s 18ms/step - loss: 1.4697 - accuracy: 0.9922\n"
     ]
    },
    {
     "data": {
      "text/plain": [
       "<tensorflow.python.keras.callbacks.History at 0x1b7ef1e2940>"
      ]
     },
     "execution_count": 26,
     "metadata": {},
     "output_type": "execute_result"
    }
   ],
   "source": [
    "import tensorflow as tf\n",
    "\n",
    "# YOUR CODE STARTS HERE\n",
    "class myCallback(tf.keras.callbacks.Callback):\n",
    "  def on_epoch_end(self, epoch, logs={}):\n",
    "    if(logs.get('accuracy')>0.992):\n",
    "      print(\"\\nReached 99.8% accuracy so cancelling training!\")\n",
    "      self.model.stop_training = True\n",
    "my_callback=myCallback()\n",
    "# YOUR CODE ENDS HERE\n",
    "\n",
    "mnist = tf.keras.datasets.mnist\n",
    "(training_images, training_labels), (test_images, test_labels) = mnist.load_data()\n",
    "\n",
    "# YOUR CODE STARTS HERE\n",
    "training_images = training_images.reshape((training_images.shape[0], 28, 28, 1))\n",
    "test_images = test_images.reshape((test_images.shape[0], 28, 28, 1))\n",
    "training_images=training_images/255\n",
    "test_images=test_images/255\n",
    "# YOUR CODE ENDS HERE\n",
    "\n",
    "model = tf.keras.models.Sequential([\n",
    "    # YOUR CODE STARTS HERE\n",
    "    tf.keras.layers.Conv2D(32, (3,3), padding='same', activation=tf.nn.relu,\n",
    "                           input_shape=(28, 28, 1)),\n",
    "    tf.keras.layers.MaxPooling2D((2, 2), strides=2),\n",
    "    tf.keras.layers.Flatten(),\n",
    "    tf.keras.layers.Dense(10, activation = tf.nn.softmax)\n",
    "    # YOUR CODE ENDS HERE\n",
    "])\n",
    "\n",
    "# YOUR CODE STARTS HERE\n",
    "model.compile(optimizer='adam',\n",
    "              loss=tf.keras.losses.SparseCategoricalCrossentropy(from_logits=True),\n",
    "              metrics=['accuracy'])\n",
    "model.fit(training_images, training_labels, epochs=20, callbacks=[my_callback])\n",
    "# YOUR CODE ENDS HERE"
   ]
  },
  {
   "cell_type": "code",
   "execution_count": null,
   "id": "96568bba",
   "metadata": {},
   "outputs": [],
   "source": []
  }
 ],
 "metadata": {
  "kernelspec": {
   "display_name": "Python 3",
   "language": "python",
   "name": "python3"
  },
  "language_info": {
   "codemirror_mode": {
    "name": "ipython",
    "version": 3
   },
   "file_extension": ".py",
   "mimetype": "text/x-python",
   "name": "python",
   "nbconvert_exporter": "python",
   "pygments_lexer": "ipython3",
   "version": "3.8.8"
  }
 },
 "nbformat": 4,
 "nbformat_minor": 5
}
